{
 "cells": [
  {
   "cell_type": "markdown",
   "metadata": {},
   "source": [
    "# Taller 1\n"
   ]
  },
  {
   "cell_type": "code",
   "execution_count": null,
   "metadata": {},
   "outputs": [],
   "source": [
    "#Importar las librerías a usar\n",
    "\n",
    "import cv2\n",
    "import numpy as np\n",
    "import matplotlib.pyplot as plt"
   ]
  },
  {
   "cell_type": "markdown",
   "metadata": {},
   "source": [
    "## Actividad 1."
   ]
  },
  {
   "cell_type": "markdown",
   "metadata": {},
   "source": [
    "Lea con OpenCV la imagen \"alce.png\" que está dentro de la carpeta \"res\". Conviértala a RGB y luego divídala en cuatro cuadrantes tales que el primer cuadrante muestre el color original de la imagen, el segundo muestre el canal azul únicamente, el tercero muestre el canal verde y el cuarto muestre el canal rojo.\n",
    "<br>Debe obtener lo siguiente: </br>\n",
    "\n",
    "<img src=\"res/actividad1.png\"/>"
   ]
  },
  {
   "cell_type": "code",
   "execution_count": null,
   "metadata": {},
   "outputs": [],
   "source": [
    "#Leer la imagen del alce en RGB\n",
    "###Escriba su código aquí (aprox 2 lineas)###\n",
    "#Primero se lee la imagen a color \n",
    "img = None\n",
    "#Luego se hace conversión a RGB\n",
    "img_rgb = None\n",
    "###Modificación termina aquí###\n",
    "\n",
    "#Mostrar Imagen\n",
    "plt.imshow(img_rgb)"
   ]
  },
  {
   "cell_type": "code",
   "execution_count": null,
   "metadata": {},
   "outputs": [],
   "source": [
    "###Escriba su código aquí (aprox 6 lineas)###\n",
    "img_rgb[None:None, None:None, None] = None\n",
    "img_rgb[None:None, None:None, None] = None\n",
    "img_rgb[None:None, None:None, None] = None\n",
    "img_rgb[None:None, None:None, None] = None\n",
    "img_rgb[None:None, None:None, None] = None\n",
    "img_rgb[None:None, None:None, None] = None\n",
    "###Modificación termina aquí###\n",
    "#Mostrar imagen\n",
    "plt.imshow(img_rgb)"
   ]
  },
  {
   "cell_type": "markdown",
   "metadata": {},
   "source": [
    "### Salida esperada:\n",
    "\n",
    "<img src=\"res/actividad1.png\"/>"
   ]
  },
  {
   "cell_type": "markdown",
   "metadata": {},
   "source": [
    "---"
   ]
  },
  {
   "cell_type": "markdown",
   "metadata": {},
   "source": [
    "## Actividad 2."
   ]
  },
  {
   "cell_type": "markdown",
   "metadata": {},
   "source": [
    "Algunos problemas de visión artificial, suelen abordarse mediante el estudio de los canales de los espacios de color, algunos de ellos: RGB, HSV, LAB, YUV y XYZ.\n",
    "\n",
    "<br>Lea la imagen \"frutas.jpg\" que se encuentra en la carpeta \"res\" y realice un subplot que muestre la imagen en cada uno de los canales que conforman los espacios de color nombrados anteriormente. Adicionalmente muestre la imagen en escala de grises</br>\n"
   ]
  },
  {
   "cell_type": "code",
   "execution_count": null,
   "metadata": {},
   "outputs": [],
   "source": [
    "### Complete el código ###\n",
    "#Leer imagen con opecnv a color\n",
    "img = None\n",
    "#Leer imagen con opencv a escala de grises\n",
    "img_gray = None\n",
    "#Convertir a RGB\n",
    "img_rgb = None\n",
    "#Convertir a HSV\n",
    "img_hsv = None\n",
    "#Convertir a LAB\n",
    "img_lab = None\n",
    "#Convertir a YUV\n",
    "img_yuv = None\n",
    "#Convertir a XYZ\n",
    "img_xyz = None\n",
    "### Terminar de completar el código ###\n",
    "\n",
    "#Se crea un subplot de 2x3, para mostrar las 6 imágenes y compararlas.\n",
    "fig, ((ax1, ax2, ax3), (ax4, ax5, ax6)) = plt.subplots(2,3, figsize=(28, 15))\n",
    "fig.suptitle('Espacio de colores', fontsize=20)\n",
    "ax1.set_title('Escala de grises')\n",
    "ax1.imshow(img_gray, cmap = \"gray\", aspect='auto')\n",
    "ax2.set_title('RGB')\n",
    "ax2.imshow(img_rgb, aspect='auto')\n",
    "ax3.set_title('HSV')\n",
    "ax3.imshow(img_hsv, aspect='auto')\n",
    "ax4.set_title('LAB')\n",
    "ax4.imshow(img_lab, aspect='auto')\n",
    "ax5.set_title('YUV')\n",
    "ax5.imshow(img_yuv, aspect='auto')\n",
    "ax6.set_title('XYZ')\n",
    "ax6.imshow(img_xyz, aspect='auto')"
   ]
  },
  {
   "cell_type": "markdown",
   "metadata": {},
   "source": [
    "### Salida esperada:\n",
    "\n",
    "<img src=\"res/espacios.png\"/>"
   ]
  },
  {
   "cell_type": "code",
   "execution_count": null,
   "metadata": {},
   "outputs": [],
   "source": [
    "#Canales RGB\n",
    "###Escriba su código aquí (aprox 3 líneas)###\n",
    "img_R = None\n",
    "img_G = None\n",
    "img_B = None\n",
    "###Modificación termina aquí###\n",
    "#Se crea el subplot 1x3\n",
    "fig, (ax1, ax2, ax3) = plt.subplots(1,3, figsize=(30, 7))\n",
    "#Se ponen títulos y se muestran las imágenes\n",
    "fig.suptitle('Canales RGB', fontsize=20)\n",
    "ax1.set_title('Canal R')\n",
    "ax1.imshow(img_R, cmap='gray', aspect='auto')\n",
    "ax2.set_title('Canal G')\n",
    "ax2.imshow(img_G, cmap='gray', aspect='auto')\n",
    "ax3.set_title('Canal B')\n",
    "ax3.imshow(img_B, cmap='gray', aspect='auto')"
   ]
  },
  {
   "cell_type": "markdown",
   "metadata": {},
   "source": [
    "### Salida esperada:\n",
    "\n",
    "<img src=\"res/rgb.png\"/>"
   ]
  },
  {
   "cell_type": "code",
   "execution_count": null,
   "metadata": {},
   "outputs": [],
   "source": [
    "#Canales HSV\n",
    "###Escriba su código aquí (aprox 3 líneas)###\n",
    "img_H = None\n",
    "img_S = None\n",
    "img_V = None\n",
    "###Modificación termina aquí###\n",
    "#Se crea el subplot 1x3\n",
    "fig, (ax1, ax2, ax3) = plt.subplots(1,3, figsize=(30, 7))\n",
    "#Se ponen títulos y se muestran las imágenes\n",
    "fig.suptitle('Canales HSV', fontsize=20)\n",
    "ax1.set_title('Canal H')\n",
    "ax1.imshow(img_H, cmap='gray', aspect='auto')\n",
    "ax2.set_title('Canal S')\n",
    "ax2.imshow(img_S, cmap='gray', aspect='auto')\n",
    "ax3.set_title('Canal V')\n",
    "ax3.imshow(img_V, cmap='gray', aspect='auto')"
   ]
  },
  {
   "cell_type": "markdown",
   "metadata": {},
   "source": [
    "### Salida esperada:\n",
    "\n",
    "<img src=\"res/hsv.png\"/>"
   ]
  },
  {
   "cell_type": "code",
   "execution_count": null,
   "metadata": {},
   "outputs": [],
   "source": [
    "#Canales LAB\n",
    "###Escriba su código aquí (aprox 3 líneas)###\n",
    "img_L = None\n",
    "img_A = None\n",
    "img_B = None\n",
    "###Modificación termina aquí###\n",
    "#Se crea el subplot 1x3\n",
    "fig, (ax1, ax2, ax3) = plt.subplots(1,3, figsize=(30, 7))\n",
    "#Se ponen títulos y se muestran las imágenes\n",
    "fig.suptitle('Canales LAB', fontsize=20)\n",
    "ax1.set_title('Canal L')\n",
    "ax1.imshow(img_L, cmap='gray', aspect='auto')\n",
    "ax2.set_title('Canal A')\n",
    "ax2.imshow(img_A, cmap='gray', aspect='auto')\n",
    "ax3.set_title('Canal B')\n",
    "ax3.imshow(img_B, cmap='gray', aspect='auto')"
   ]
  },
  {
   "cell_type": "markdown",
   "metadata": {},
   "source": [
    "### Salida esperada:\n",
    "\n",
    "<img src=\"res/lab.png\"/>"
   ]
  },
  {
   "cell_type": "code",
   "execution_count": null,
   "metadata": {},
   "outputs": [],
   "source": [
    "#Canales YUV\n",
    "###Escriba su código aquí (aprox 3 líneas)###\n",
    "img_Y = None\n",
    "img_U = None\n",
    "img_V = None\n",
    "###Modificación termina aquí###\n",
    "#Se crea el subplot 1x3\n",
    "fig, (ax1, ax2, ax3) = plt.subplots(1,3, figsize=(30, 7))\n",
    "#Se ponen títulos y se muestran las imágenes\n",
    "fig.suptitle('Canales YUV', fontsize=20)\n",
    "ax1.set_title('Canal Y')\n",
    "ax1.imshow(img_Y, cmap='gray', aspect='auto')\n",
    "ax2.set_title('Canal U')\n",
    "ax2.imshow(img_U, cmap='gray', aspect='auto')\n",
    "ax3.set_title('Canal V')\n",
    "ax3.imshow(img_V, cmap='gray', aspect='auto')"
   ]
  },
  {
   "cell_type": "markdown",
   "metadata": {},
   "source": [
    "### Salida esperada:\n",
    "\n",
    "<img src=\"res/yuv.png\"/>"
   ]
  },
  {
   "cell_type": "code",
   "execution_count": null,
   "metadata": {},
   "outputs": [],
   "source": [
    "#Canales XYZ\n",
    "###Escriba su código aquí (aprox 3 líneas)###\n",
    "img_X = None\n",
    "img_Y = None\n",
    "img_Z = None\n",
    "###Modificación termina aquí###\n",
    "#Se crea el subplot 1x3\n",
    "fig, (ax1, ax2, ax3) = plt.subplots(1,3, figsize=(30, 7))\n",
    "#Se ponen títulos y se muestran las imágenes\n",
    "fig.suptitle('Canales XYZ', fontsize=20)\n",
    "ax1.set_title('Canal X')\n",
    "ax1.imshow(img_X, cmap='gray', aspect='auto')\n",
    "ax2.set_title('Canal Y')\n",
    "ax2.imshow(img_Y, cmap='gray', aspect='auto')\n",
    "ax3.set_title('Canal Z')\n",
    "ax3.imshow(img_Z, cmap='gray', aspect='auto')"
   ]
  },
  {
   "cell_type": "markdown",
   "metadata": {},
   "source": [
    "### Salida esperada:\n",
    "\n",
    "<img src=\"res/xyz.png\"/>"
   ]
  },
  {
   "cell_type": "markdown",
   "metadata": {},
   "source": [
    "¿Qué método propondría usted para diferenciar cada uno de los canales pertenecientes a los diferentes espacios de color? ¿Cómo las diferenciaría de la imagen en escala de grises?\n",
    "\n",
    "##### Nota: Es opcional y es libre de responder como usted quiera."
   ]
  },
  {
   "cell_type": "markdown",
   "metadata": {},
   "source": [
    "## Actividad 3."
   ]
  },
  {
   "cell_type": "markdown",
   "metadata": {},
   "source": [
    "La versión de NTSC aprobada por la Comisión Federal de Comunicaciones, en Estados Unidos, realiza una ligera variación en las ecuaciones del modelo YIQ: \n",
    "\n",
    "<img src=\"res/modificacion.png\"/>\n",
    "\n",
    "<br>Lea la imagen \"cells.png\" que se encuentra en la carpeta \"res\", escriba un código donde implemente la transformación lineal YIQ  modificada sobre el espacio de color RGB.</br>\n",
    "<br><b>Ayuda: Escriba en forma matricial el sistema para conocer las componentes R, G, B de los canales Y, I, Q.<b></br>"
   ]
  },
  {
   "cell_type": "code",
   "execution_count": null,
   "metadata": {},
   "outputs": [],
   "source": [
    "#Se lee la imagen \n",
    "img = cv2.imread(\"res/cells.png\", cv2.IMREAD_COLOR)\n",
    "img_rgb  = cv2.cvtColor(img, cv2.COLOR_BGR2RGB)\n",
    "\n",
    "#Se descompone en los canales RGB\n",
    "###Escriba su código aquí (aprox 3 líneas)###\n",
    "img_R = None\n",
    "img_G = None\n",
    "img_B = None\n",
    "###Modificación termina aquí###\n",
    "\n",
    "#Se obtienen los canales YIQ mediante una transformación lineal\n",
    "###Escriba su código aquí (aprox 3 líneas)###\n",
    "img_Y = None\n",
    "img_I = None\n",
    "img_Q = None\n",
    "###Modificación termina aquí###\n",
    "\n",
    "#Mostrar y comparar imágenes\n",
    "fig, ((ax1, ax2, ax3)) = plt.subplots(1,3, figsize=(20, 5))\n",
    "fig.suptitle('Transformación lineal YIQ modificada', fontsize=20)\n",
    "ax1.set_title('Canal Y del YIQ')\n",
    "ax1.imshow(img_Y, cmap='gray', aspect='auto')\n",
    "ax2.set_title('Canal I del YIQ')\n",
    "ax2.imshow(img_I, cmap='gray', aspect='auto')\n",
    "ax3.set_title('Canal Q del YIQ')\n",
    "ax3.imshow(img_Q, cmap='gray', aspect='auto')\n"
   ]
  },
  {
   "cell_type": "markdown",
   "metadata": {},
   "source": [
    "### Salida esperada:\n",
    "\n",
    "<img src=\"res/actividad3.png\"/>"
   ]
  },
  {
   "cell_type": "markdown",
   "metadata": {},
   "source": [
    "## Actividad 4."
   ]
  },
  {
   "cell_type": "markdown",
   "metadata": {},
   "source": [
    "Tenemos la siguiente imagen:\n",
    "\n",
    "<img src=\"res/cebra.jpg\" width=\"500\"/>"
   ]
  },
  {
   "cell_type": "markdown",
   "metadata": {},
   "source": [
    "Lea la imagen \"cebra.jpg\" dentro de la carpeta \"res\". Luego, si quisieramos separar las cebras peatonales, con los siguientes canales de color: <b>B del RGB, Z del XYZ, B* del LAB y H del HSV </b>, ¿Cuál sería el mejor canal posible para separar la cebra del fondo?\n"
   ]
  },
  {
   "cell_type": "code",
   "execution_count": null,
   "metadata": {},
   "outputs": [],
   "source": [
    "### Escriba su código aquí ###"
   ]
  },
  {
   "cell_type": "markdown",
   "metadata": {},
   "source": [
    "### ¿Por qué el canal que seleccionó es el mejor candidato?</b>\n",
    "Rta..."
   ]
  },
  {
   "cell_type": "markdown",
   "metadata": {},
   "source": [
    "## Actividad 5."
   ]
  },
  {
   "cell_type": "markdown",
   "metadata": {},
   "source": [
    "Tenemos la siguiente imagen:\n",
    "\n",
    "<img src=\"res/cactus.jpg\" width=\"500\"/>"
   ]
  },
  {
   "cell_type": "markdown",
   "metadata": {},
   "source": [
    "Lea la imagen \"cactus.jpg\" dentro de la carpeta \"res\". Luego, si quisieramos separar los cactus del fondo, con los siguientes canales de color: <b>R del RGB, X del XYZ, A del LAB y S del HSV </b>, ¿Cuál sería el mejor canal posible para separar los cactus del fondo?"
   ]
  },
  {
   "cell_type": "code",
   "execution_count": null,
   "metadata": {},
   "outputs": [],
   "source": [
    "### Escriba su código aquí ###"
   ]
  },
  {
   "cell_type": "markdown",
   "metadata": {},
   "source": [
    "### ¿Por qué el canal que seleccionó es el mejor candidato?</b>\n",
    "Rta..."
   ]
  },
  {
   "cell_type": "markdown",
   "metadata": {},
   "source": [
    "## Actividad 6."
   ]
  },
  {
   "cell_type": "markdown",
   "metadata": {},
   "source": [
    "Tenemos la siguiente imagen:\n",
    "\n",
    "<img src=\"res/manzanas.jpeg\" width=\"500\"/>"
   ]
  },
  {
   "cell_type": "markdown",
   "metadata": {},
   "source": [
    "## 6.1 Leer la imagen que se encuentra en res/manzanas.jpeg"
   ]
  },
  {
   "cell_type": "code",
   "execution_count": null,
   "metadata": {},
   "outputs": [],
   "source": [
    "### Escriba su código aquí ###"
   ]
  },
  {
   "cell_type": "markdown",
   "metadata": {},
   "source": [
    "## 6.2 ¿Si quisieramos separar las manzanas rojas de las verdes qué canal podríamos utilizar?"
   ]
  },
  {
   "cell_type": "code",
   "execution_count": null,
   "metadata": {},
   "outputs": [],
   "source": [
    "### Escriba su código aquí ###"
   ]
  },
  {
   "cell_type": "markdown",
   "metadata": {},
   "source": [
    "## 6.3 ¿Si quisieramos separar las manzanas verdes de las rojas qué canal podríamos utilizar?"
   ]
  },
  {
   "cell_type": "code",
   "execution_count": null,
   "metadata": {},
   "outputs": [],
   "source": [
    "### Escriba su código aquí ###"
   ]
  }
 ],
 "metadata": {
  "kernelspec": {
   "display_name": "Python 3 (ipykernel)",
   "language": "python",
   "name": "python3"
  },
  "language_info": {
   "codemirror_mode": {
    "name": "ipython",
    "version": 3
   },
   "file_extension": ".py",
   "mimetype": "text/x-python",
   "name": "python",
   "nbconvert_exporter": "python",
   "pygments_lexer": "ipython3",
   "version": "3.8.0"
  }
 },
 "nbformat": 4,
 "nbformat_minor": 2
}
